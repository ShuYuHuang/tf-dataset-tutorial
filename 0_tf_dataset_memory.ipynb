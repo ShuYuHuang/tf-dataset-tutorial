{
 "cells": [
  {
   "cell_type": "markdown",
   "metadata": {},
   "source": [
    "# TF2.0 Loader製作- Memory"
   ]
  },
  {
   "cell_type": "markdown",
   "metadata": {},
   "source": [
    "## 內容\n",
    "    * 基本loader\n",
    "    * cache\n",
    "    * prefetch"
   ]
  },
  {
   "cell_type": "code",
   "execution_count": 1,
   "metadata": {},
   "outputs": [],
   "source": [
    "import tensorflow as tf\n",
    "from pprint import pprint\n",
    "import numpy as np\n",
    "import matplotlib.pyplot as plt"
   ]
  },
  {
   "cell_type": "markdown",
   "metadata": {},
   "source": [
    "**以tf.data.Dataset.from_generator這種loader類型示範**\n",
    "\n",
    "先準備好一個data generator，會yield指定數量的數字"
   ]
  },
  {
   "cell_type": "code",
   "execution_count": 2,
   "metadata": {},
   "outputs": [],
   "source": [
    "def f(rng):\n",
    "    for i in range(rng):\n",
    "        yield i"
   ]
  },
  {
   "cell_type": "code",
   "execution_count": 4,
   "metadata": {},
   "outputs": [
    {
     "data": {
      "text/plain": [
       "[0, 1, 2]"
      ]
     },
     "execution_count": 4,
     "metadata": {},
     "output_type": "execute_result"
    }
   ],
   "source": [
    "list(f(3))"
   ]
  },
  {
   "cell_type": "markdown",
   "metadata": {},
   "source": [
    "---"
   ]
  },
  {
   "cell_type": "markdown",
   "metadata": {},
   "source": [
    "## 最陽春的loader"
   ]
  },
  {
   "cell_type": "code",
   "execution_count": 5,
   "metadata": {},
   "outputs": [],
   "source": [
    "d=tf.data.Dataset.from_generator(f,args=[3],output_types=tf.float32)"
   ]
  },
  {
   "cell_type": "code",
   "execution_count": 6,
   "metadata": {},
   "outputs": [
    {
     "name": "stdout",
     "output_type": "stream",
     "text": [
      "<tf.Tensor: shape=(), dtype=float32, numpy=0.0>\n",
      "<tf.Tensor: shape=(), dtype=float32, numpy=1.0>\n",
      "<tf.Tensor: shape=(), dtype=float32, numpy=2.0>\n",
      "CPU times: user 28.4 ms, sys: 24.2 ms, total: 52.6 ms\n",
      "Wall time: 49.9 ms\n"
     ]
    }
   ],
   "source": [
    "%%time\n",
    "for i,x in enumerate(d):\n",
    "        pprint(x)"
   ]
  },
  {
   "cell_type": "markdown",
   "metadata": {},
   "source": [
    "---"
   ]
  },
  {
   "cell_type": "markdown",
   "metadata": {},
   "source": [
    "## Cache"
   ]
  },
  {
   "cell_type": "code",
   "execution_count": 11,
   "metadata": {},
   "outputs": [],
   "source": [
    "d=tf.data.Dataset.from_generator(f,args=[1000],output_types=tf.float32).cache()"
   ]
  },
  {
   "cell_type": "code",
   "execution_count": 12,
   "metadata": {},
   "outputs": [
    {
     "name": "stdout",
     "output_type": "stream",
     "text": [
      "<tf.Tensor: shape=(), dtype=float32, numpy=0.0>\n",
      "<tf.Tensor: shape=(), dtype=float32, numpy=1.0>\n",
      "<tf.Tensor: shape=(), dtype=float32, numpy=2.0>\n",
      "CPU times: user 201 ms, sys: 72.1 ms, total: 273 ms\n",
      "Wall time: 240 ms\n"
     ]
    }
   ],
   "source": [
    "%%time\n",
    "for i,x in enumerate(d):\n",
    "    if i<3:\n",
    "        pprint(x)"
   ]
  },
  {
   "cell_type": "code",
   "execution_count": 13,
   "metadata": {},
   "outputs": [
    {
     "name": "stdout",
     "output_type": "stream",
     "text": [
      "<tf.Tensor: shape=(), dtype=float32, numpy=0.0>\n",
      "<tf.Tensor: shape=(), dtype=float32, numpy=1.0>\n",
      "<tf.Tensor: shape=(), dtype=float32, numpy=2.0>\n",
      "CPU times: user 89 ms, sys: 328 µs, total: 89.3 ms\n",
      "Wall time: 87 ms\n"
     ]
    }
   ],
   "source": [
    "%%time\n",
    "'''因為第一次跑完存進記憶體，第二次會變快(但因為存起來，有隨機型preprocess的話就不隨機了)'''\n",
    "for i,x in enumerate(d):\n",
    "    if i<3:\n",
    "        pprint(x)"
   ]
  },
  {
   "cell_type": "markdown",
   "metadata": {},
   "source": [
    "---"
   ]
  },
  {
   "cell_type": "markdown",
   "metadata": {},
   "source": [
    "## Prefetch"
   ]
  },
  {
   "cell_type": "code",
   "execution_count": 14,
   "metadata": {},
   "outputs": [],
   "source": [
    "'''在跑的過程中pipeline處理，一部分先放進memory內'''\n",
    "d0=tf.data.Dataset.from_generator(f,args=[1000],output_types=tf.float32)\n",
    "d1=tf.data.Dataset.from_generator(f,args=[1000],output_types=tf.float32).prefetch(10)\n",
    "d2=tf.data.Dataset.from_generator(f,args=[1000],output_types=tf.float32).prefetch(100)\n",
    "d3=tf.data.Dataset.from_generator(f,args=[1000],output_types=tf.float32).prefetch(tf.data.experimental.AUTOTUNE)"
   ]
  },
  {
   "cell_type": "code",
   "execution_count": 15,
   "metadata": {},
   "outputs": [
    {
     "name": "stdout",
     "output_type": "stream",
     "text": [
      "CPU times: user 188 ms, sys: 75.8 ms, total: 263 ms\n",
      "Wall time: 229 ms\n"
     ]
    }
   ],
   "source": [
    "%%time\n",
    "for i in d0:\n",
    "    pass"
   ]
  },
  {
   "cell_type": "code",
   "execution_count": 16,
   "metadata": {},
   "outputs": [
    {
     "name": "stdout",
     "output_type": "stream",
     "text": [
      "CPU times: user 203 ms, sys: 84.7 ms, total: 287 ms\n",
      "Wall time: 195 ms\n"
     ]
    }
   ],
   "source": [
    "%%time\n",
    "'''加完快一點'''\n",
    "for i in d1:\n",
    "    pass"
   ]
  },
  {
   "cell_type": "code",
   "execution_count": 17,
   "metadata": {},
   "outputs": [
    {
     "name": "stdout",
     "output_type": "stream",
     "text": [
      "CPU times: user 220 ms, sys: 67.1 ms, total: 287 ms\n",
      "Wall time: 196 ms\n"
     ]
    }
   ],
   "source": [
    "%%time\n",
    "'''加越多越快'''\n",
    "for i in d2:\n",
    "    pass"
   ]
  },
  {
   "cell_type": "code",
   "execution_count": 18,
   "metadata": {},
   "outputs": [
    {
     "name": "stdout",
     "output_type": "stream",
     "text": [
      "CPU times: user 199 ms, sys: 88.5 ms, total: 287 ms\n",
      "Wall time: 198 ms\n"
     ]
    }
   ],
   "source": [
    "%%time\n",
    "'''Autotune很容易達到很快'''\n",
    "for i in d3:\n",
    "    pass"
   ]
  },
  {
   "cell_type": "code",
   "execution_count": 20,
   "metadata": {},
   "outputs": [],
   "source": [
    "'''含有cache的情況也是可以加速'''\n",
    "d0=tf.data.Dataset.from_generator(f,args=[10],output_types=tf.float32).cache().repeat(100)\n",
    "d1=tf.data.Dataset.from_generator(f,args=[10],output_types=tf.float32).cache().repeat(100).prefetch(10)\n",
    "d2=tf.data.Dataset.from_generator(f,args=[10],output_types=tf.float32).cache().repeat(100).prefetch(100)\n",
    "d3=tf.data.Dataset.from_generator(f,args=[10],output_types=tf.float32).cache().repeat(100).prefetch(tf.data.experimental.AUTOTUNE)"
   ]
  },
  {
   "cell_type": "code",
   "execution_count": 21,
   "metadata": {},
   "outputs": [],
   "source": [
    "for i in d0:\n",
    "    pass\n",
    "for i in d1:\n",
    "    pass\n",
    "for i in d2:\n",
    "    pass\n",
    "for i in d3:\n",
    "    pass"
   ]
  },
  {
   "cell_type": "code",
   "execution_count": 22,
   "metadata": {},
   "outputs": [
    {
     "name": "stdout",
     "output_type": "stream",
     "text": [
      "CPU times: user 90.9 ms, sys: 0 ns, total: 90.9 ms\n",
      "Wall time: 88.7 ms\n"
     ]
    }
   ],
   "source": [
    "%%time\n",
    "for i in d0:\n",
    "    pass"
   ]
  },
  {
   "cell_type": "code",
   "execution_count": 23,
   "metadata": {},
   "outputs": [
    {
     "name": "stdout",
     "output_type": "stream",
     "text": [
      "CPU times: user 103 ms, sys: 0 ns, total: 103 ms\n",
      "Wall time: 93.9 ms\n"
     ]
    }
   ],
   "source": [
    "%%time\n",
    "'''加完快一點'''\n",
    "for i in d1:\n",
    "    pass"
   ]
  },
  {
   "cell_type": "code",
   "execution_count": 24,
   "metadata": {},
   "outputs": [
    {
     "name": "stdout",
     "output_type": "stream",
     "text": [
      "CPU times: user 95.9 ms, sys: 5.62 ms, total: 102 ms\n",
      "Wall time: 93 ms\n"
     ]
    }
   ],
   "source": [
    "%%time\n",
    "'''加越多越快'''\n",
    "for i in d2:\n",
    "    pass"
   ]
  },
  {
   "cell_type": "code",
   "execution_count": 25,
   "metadata": {},
   "outputs": [
    {
     "name": "stdout",
     "output_type": "stream",
     "text": [
      "CPU times: user 89.4 ms, sys: 13.5 ms, total: 103 ms\n",
      "Wall time: 93.6 ms\n"
     ]
    }
   ],
   "source": [
    "%%time\n",
    "'''Autotune很容易達到很快，而且記憶體也不會讓他爆'''\n",
    "for i in d3:\n",
    "    pass"
   ]
  },
  {
   "cell_type": "markdown",
   "metadata": {},
   "source": [
    "---"
   ]
  },
  {
   "cell_type": "code",
   "execution_count": null,
   "metadata": {},
   "outputs": [],
   "source": []
  }
 ],
 "metadata": {
  "kernelspec": {
   "display_name": "Python 3",
   "language": "python",
   "name": "python3"
  },
  "language_info": {
   "codemirror_mode": {
    "name": "ipython",
    "version": 3
   },
   "file_extension": ".py",
   "mimetype": "text/x-python",
   "name": "python",
   "nbconvert_exporter": "python",
   "pygments_lexer": "ipython3",
   "version": "3.7.6"
  }
 },
 "nbformat": 4,
 "nbformat_minor": 4
}
