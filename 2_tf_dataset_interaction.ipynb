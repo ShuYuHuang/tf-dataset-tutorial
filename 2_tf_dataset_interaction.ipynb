{
 "cells": [
  {
   "cell_type": "markdown",
   "metadata": {},
   "source": [
    "# TF2.0 Loader製作- Interaction"
   ]
  },
  {
   "cell_type": "markdown",
   "metadata": {},
   "source": [
    "## 內容\n",
    "    * 基本loader\n",
    "    * map\n",
    "    * zip\n",
    "    * concatenate"
   ]
  },
  {
   "cell_type": "code",
   "execution_count": 1,
   "metadata": {},
   "outputs": [],
   "source": [
    "import tensorflow as tf\n",
    "from functools import partial\n",
    "from pprint import pprint\n",
    "import numpy as np\n",
    "import matplotlib.pyplot as plt"
   ]
  },
  {
   "cell_type": "markdown",
   "metadata": {},
   "source": [
    "**以tf.data.Dataset.from_generator這種loader類型示範**\n",
    "\n",
    "先準備好一個data generator，會yield指定數量的數字"
   ]
  },
  {
   "cell_type": "code",
   "execution_count": 2,
   "metadata": {},
   "outputs": [],
   "source": [
    "def f(rng):\n",
    "    for i in range(rng):\n",
    "        yield i"
   ]
  },
  {
   "cell_type": "code",
   "execution_count": 43,
   "metadata": {},
   "outputs": [
    {
     "data": {
      "text/plain": [
       "[0, 1, 2]"
      ]
     },
     "execution_count": 43,
     "metadata": {},
     "output_type": "execute_result"
    }
   ],
   "source": [
    "list(iter(f(3)))"
   ]
  },
  {
   "cell_type": "markdown",
   "metadata": {},
   "source": [
    "---"
   ]
  },
  {
   "cell_type": "markdown",
   "metadata": {},
   "source": [
    "## Map"
   ]
  },
  {
   "cell_type": "code",
   "execution_count": 312,
   "metadata": {},
   "outputs": [],
   "source": [
    "'''套用指定算式做前處理，例如一開始是檔案名稱的dataset，可依序讀檔，前處理'''\n",
    "d=tf.data.Dataset.from_generator(f,args=[6],output_types=tf.float32).map(lambda x:x*2)"
   ]
  },
  {
   "cell_type": "code",
   "execution_count": 313,
   "metadata": {},
   "outputs": [
    {
     "name": "stdout",
     "output_type": "stream",
     "text": [
      "tf.Tensor(0.0, shape=(), dtype=float32)\n",
      "tf.Tensor(2.0, shape=(), dtype=float32)\n",
      "tf.Tensor(4.0, shape=(), dtype=float32)\n",
      "tf.Tensor(6.0, shape=(), dtype=float32)\n",
      "tf.Tensor(8.0, shape=(), dtype=float32)\n",
      "tf.Tensor(10.0, shape=(), dtype=float32)\n"
     ]
    }
   ],
   "source": [
    "'''依指定算式做前處理'''\n",
    "for i,x in enumerate(d):\n",
    "    print(x)"
   ]
  },
  {
   "cell_type": "code",
   "execution_count": 332,
   "metadata": {},
   "outputs": [],
   "source": [
    "d1=tf.data.Dataset.from_generator(f,args=[1000],output_types=tf.float32).map(lambda x:x*2)\n",
    "d2=tf.data.Dataset.from_generator(f,args=[1000],output_types=tf.float32).map(lambda x:x*2,num_parallel_calls=tf.data.experimental.AUTOTUNE)"
   ]
  },
  {
   "cell_type": "code",
   "execution_count": 333,
   "metadata": {},
   "outputs": [
    {
     "name": "stdout",
     "output_type": "stream",
     "text": [
      "CPU times: user 268 ms, sys: 77 ms, total: 344 ms\n",
      "Wall time: 318 ms\n"
     ]
    }
   ],
   "source": [
    "%%time\n",
    "for i,x in enumerate(d1):\n",
    "    pass"
   ]
  },
  {
   "cell_type": "code",
   "execution_count": 334,
   "metadata": {},
   "outputs": [
    {
     "name": "stdout",
     "output_type": "stream",
     "text": [
      "CPU times: user 290 ms, sys: 93.1 ms, total: 383 ms\n",
      "Wall time: 237 ms\n"
     ]
    }
   ],
   "source": [
    "%%time\n",
    "'''使用num_parallel_calls做平行化會快一點'''\n",
    "for i,x in enumerate(d2):\n",
    "    pass"
   ]
  },
  {
   "cell_type": "markdown",
   "metadata": {},
   "source": [
    "---"
   ]
  },
  {
   "cell_type": "markdown",
   "metadata": {},
   "source": [
    "## zip"
   ]
  },
  {
   "cell_type": "code",
   "execution_count": 293,
   "metadata": {},
   "outputs": [],
   "source": [
    "'''把兩個dataset的資料並聯，可用於data跟label相並'''\n",
    "d0=tf.data.Dataset.from_generator(f,args=[3],output_types=tf.float32).shuffle(3)\n",
    "d1=tf.data.Dataset.from_generator(f,args=[4],output_types=tf.float32)\n",
    "d2=tf.data.Dataset.zip((d0,d1))"
   ]
  },
  {
   "cell_type": "code",
   "execution_count": 294,
   "metadata": {},
   "outputs": [
    {
     "name": "stdout",
     "output_type": "stream",
     "text": [
      "(<tf.Tensor: shape=(), dtype=float32, numpy=2.0>, <tf.Tensor: shape=(), dtype=float32, numpy=0.0>)\n",
      "(<tf.Tensor: shape=(), dtype=float32, numpy=1.0>, <tf.Tensor: shape=(), dtype=float32, numpy=1.0>)\n",
      "(<tf.Tensor: shape=(), dtype=float32, numpy=0.0>, <tf.Tensor: shape=(), dtype=float32, numpy=2.0>)\n",
      "CPU times: user 48.9 ms, sys: 72.1 ms, total: 121 ms\n",
      "Wall time: 117 ms\n"
     ]
    }
   ],
   "source": [
    "%%time\n",
    "'''數量對不上時，最後面的會被砍掉'''\n",
    "for i,x in enumerate(d2):\n",
    "    print(x)"
   ]
  },
  {
   "cell_type": "markdown",
   "metadata": {},
   "source": [
    "---"
   ]
  },
  {
   "cell_type": "markdown",
   "metadata": {},
   "source": [
    "## Concatenate"
   ]
  },
  {
   "cell_type": "code",
   "execution_count": 281,
   "metadata": {},
   "outputs": [],
   "source": [
    "'''把兩個dataset接起來'''\n",
    "d0=tf.data.Dataset.from_generator(f,args=[3],output_types=tf.float32).shuffle(3)\n",
    "d1=tf.data.Dataset.from_generator(f,args=[4],output_types=tf.float32)\n",
    "d2=tf.data.Dataset.concatenate(d0,d1)"
   ]
  },
  {
   "cell_type": "code",
   "execution_count": 282,
   "metadata": {},
   "outputs": [
    {
     "name": "stdout",
     "output_type": "stream",
     "text": [
      "<tf.Tensor: shape=(), dtype=float32, numpy=2.0>\n",
      "<tf.Tensor: shape=(), dtype=float32, numpy=0.0>\n",
      "<tf.Tensor: shape=(), dtype=float32, numpy=1.0>\n",
      "<tf.Tensor: shape=(), dtype=float32, numpy=0.0>\n",
      "<tf.Tensor: shape=(), dtype=float32, numpy=1.0>\n",
      "<tf.Tensor: shape=(), dtype=float32, numpy=2.0>\n",
      "<tf.Tensor: shape=(), dtype=float32, numpy=3.0>\n",
      "CPU times: user 39 ms, sys: 88.6 ms, total: 128 ms\n",
      "Wall time: 123 ms\n"
     ]
    }
   ],
   "source": [
    "%%time\n",
    "for i,x in enumerate(d0):\n",
    "    pprint(x)\n",
    "for i,x in enumerate(d1):\n",
    "    pprint(x)"
   ]
  },
  {
   "cell_type": "code",
   "execution_count": 283,
   "metadata": {},
   "outputs": [
    {
     "name": "stdout",
     "output_type": "stream",
     "text": [
      "<tf.Tensor: shape=(), dtype=float32, numpy=2.0>\n",
      "<tf.Tensor: shape=(), dtype=float32, numpy=0.0>\n",
      "<tf.Tensor: shape=(), dtype=float32, numpy=1.0>\n",
      "<tf.Tensor: shape=(), dtype=float32, numpy=0.0>\n",
      "<tf.Tensor: shape=(), dtype=float32, numpy=1.0>\n",
      "<tf.Tensor: shape=(), dtype=float32, numpy=2.0>\n",
      "<tf.Tensor: shape=(), dtype=float32, numpy=3.0>\n",
      "CPU times: user 64.3 ms, sys: 68.7 ms, total: 133 ms\n",
      "Wall time: 129 ms\n"
     ]
    }
   ],
   "source": [
    "%%time\n",
    "'''接起來可能會稍慢但是很方便'''\n",
    "for i,x in enumerate(d2):\n",
    "    pprint(x)"
   ]
  },
  {
   "cell_type": "code",
   "execution_count": 284,
   "metadata": {},
   "outputs": [],
   "source": [
    "'''不過有繼承cache所以如果有先pre-run過就沒差太多'''\n",
    "d0=tf.data.Dataset.from_generator(f,args=[3],output_types=tf.float32).shuffle(3).cache()\n",
    "d1=tf.data.Dataset.from_generator(f,args=[4],output_types=tf.float32).cache()\n",
    "d2=tf.data.Dataset.concatenate(d0,d1)"
   ]
  },
  {
   "cell_type": "code",
   "execution_count": 285,
   "metadata": {},
   "outputs": [
    {
     "name": "stdout",
     "output_type": "stream",
     "text": [
      "<tf.Tensor: shape=(), dtype=float32, numpy=2.0>\n",
      "<tf.Tensor: shape=(), dtype=float32, numpy=1.0>\n",
      "<tf.Tensor: shape=(), dtype=float32, numpy=0.0>\n",
      "<tf.Tensor: shape=(), dtype=float32, numpy=0.0>\n",
      "<tf.Tensor: shape=(), dtype=float32, numpy=1.0>\n",
      "<tf.Tensor: shape=(), dtype=float32, numpy=2.0>\n",
      "<tf.Tensor: shape=(), dtype=float32, numpy=3.0>\n",
      "CPU times: user 45.2 ms, sys: 85 ms, total: 130 ms\n",
      "Wall time: 125 ms\n"
     ]
    }
   ],
   "source": [
    "%%time\n",
    "for i,x in enumerate(d0):\n",
    "    pprint(x)\n",
    "for i,x in enumerate(d1):\n",
    "    pprint(x)"
   ]
  },
  {
   "cell_type": "code",
   "execution_count": 286,
   "metadata": {},
   "outputs": [
    {
     "name": "stdout",
     "output_type": "stream",
     "text": [
      "<tf.Tensor: shape=(), dtype=float32, numpy=2.0>\n",
      "<tf.Tensor: shape=(), dtype=float32, numpy=1.0>\n",
      "<tf.Tensor: shape=(), dtype=float32, numpy=0.0>\n",
      "<tf.Tensor: shape=(), dtype=float32, numpy=0.0>\n",
      "<tf.Tensor: shape=(), dtype=float32, numpy=1.0>\n",
      "<tf.Tensor: shape=(), dtype=float32, numpy=2.0>\n",
      "<tf.Tensor: shape=(), dtype=float32, numpy=3.0>\n",
      "CPU times: user 19.1 ms, sys: 527 µs, total: 19.6 ms\n",
      "Wall time: 16.1 ms\n"
     ]
    }
   ],
   "source": [
    "%%time\n",
    "for i,x in enumerate(d2):\n",
    "    pprint(x)"
   ]
  },
  {
   "cell_type": "code",
   "execution_count": null,
   "metadata": {},
   "outputs": [],
   "source": []
  }
 ],
 "metadata": {
  "kernelspec": {
   "display_name": "Python 3",
   "language": "python",
   "name": "python3"
  },
  "language_info": {
   "codemirror_mode": {
    "name": "ipython",
    "version": 3
   },
   "file_extension": ".py",
   "mimetype": "text/x-python",
   "name": "python",
   "nbconvert_exporter": "python",
   "pygments_lexer": "ipython3",
   "version": "3.7.6"
  }
 },
 "nbformat": 4,
 "nbformat_minor": 4
}
